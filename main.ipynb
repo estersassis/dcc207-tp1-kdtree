{
 "cells": [
  {
   "cell_type": "markdown",
   "id": "3bc19e39",
   "metadata": {},
   "source": [
    "## Processamento de Dados"
   ]
  },
  {
   "cell_type": "code",
   "execution_count": 37,
   "id": "be050642",
   "metadata": {},
   "outputs": [
    {
     "name": "stdout",
     "output_type": "stream",
     "text": [
      "Arquivo salvo como: 20250401_atividade_economica.csv\n"
     ]
    }
   ],
   "source": [
    "import requests\n",
    "\n",
    "url = \"https://ckan.pbh.gov.br/dataset/ec3efaac-0ca6-4846-9e32-0ffff2d76dbb/resource/4189b28e-7592-474b-8160-e39731315c27/download/20250401_atividade_economica.csv\"\n",
    "output_path = \"20250401_atividade_economica.csv\"\n",
    "\n",
    "headers = {\n",
    "    \"User-Agent\": \"Mozilla/5.0\"\n",
    "}\n",
    "\n",
    "response = requests.get(url, headers=headers)\n",
    "\n",
    "if response.status_code == 200:\n",
    "    with open(output_path, 'wb') as f:\n",
    "        f.write(response.content)\n",
    "    print(f\"Arquivo salvo como: {output_path}\")\n",
    "else:\n",
    "    print(f\"Erro ao baixar: {response.status_code}\")\n"
   ]
  },
  {
   "cell_type": "code",
   "execution_count": 3,
   "id": "6ae51710",
   "metadata": {},
   "outputs": [
    {
     "name": "stdout",
     "output_type": "stream",
     "text": [
      "Index(['ID_ATIV_ECON_ESTABELECIMENTO', 'CNAE_PRINCIPAL',\n",
      "       'DESCRICAO_CNAE_PRINCIPAL', 'CNAE', 'DATA_INICIO_ATIVIDADE',\n",
      "       'NATUREZA_JURIDICA', 'PORTE_EMPRESA', 'AREA_UTILIZADA', 'IND_SIMPLES',\n",
      "       'IND_MEI', 'IND_POSSUI_ALVARA', 'TIPO_UNIDADE', 'FORMA_ATUACAO',\n",
      "       'DESC_LOGRADOURO', 'NOME_LOGRADOURO', 'NUMERO_IMOVEL', 'COMPLEMENTO',\n",
      "       'NOME_BAIRRO', 'NOME', 'NOME_FANTASIA', 'CNPJ', 'GEOMETRIA'],\n",
      "      dtype='object')\n",
      "Registros iniciais: 534880\n"
     ]
    }
   ],
   "source": [
    "import pandas as pd\n",
    "\n",
    "df = pd.read_csv(\"20250401_atividade_economica.csv\", sep=\";\", encoding=\"utf-8\")\n",
    "print(df.columns)\n",
    "print(f\"Registros iniciais: {len(df)}\")"
   ]
  },
  {
   "cell_type": "code",
   "execution_count": 6,
   "id": "9688b28a",
   "metadata": {},
   "outputs": [
    {
     "name": "stdout",
     "output_type": "stream",
     "text": [
      "Registros restantes: 13801\n"
     ]
    }
   ],
   "source": [
    "df['DESCRICAO_CNAE_PRINCIPAL'] = df['DESCRICAO_CNAE_PRINCIPAL'].fillna(\"\").str.upper()\n",
    "\n",
    "keywords = [\"BAR\", \"RESTAURANTE\", \"BARES\", \"RESTAURANTES\"]\n",
    "\n",
    "filter = df['DESCRICAO_CNAE_PRINCIPAL'].apply(lambda x: any(k in x for k in keywords))\n",
    "df_filter = df[filter].copy()\n",
    "\n",
    "print(f\"Registros restantes: {len(df_filter)}\")\n"
   ]
  },
  {
   "cell_type": "code",
   "execution_count": 23,
   "id": "a4b02eae",
   "metadata": {},
   "outputs": [
    {
     "name": "stdout",
     "output_type": "stream",
     "text": [
      "                                       NOME DATA_INICIO_ATIVIDADE  \\\n",
      "17                 APARECIDA MARIA DE SOUZA            01-07-1993   \n",
      "19               LUCAS SILVA DE ARAUJO LTDA            15-10-1993   \n",
      "29                      PAULO EMILIO COELHO            02-05-1994   \n",
      "172          GARAPAO BAR E RESTAURANTE LTDA            24-11-1993   \n",
      "196  ROD BITS COMERCIO E REPRESENTACAO LTDA            01-06-1994   \n",
      "\n",
      "    IND_POSSUI_ALVARA                                           ENDERECO  \n",
      "17                NÃO  RUA DESEMBARGADOR REIS ALVES, 90 - BAIRRO DAS ...  \n",
      "19                NÃO                  RUA LUIZ PONGELUPE, 290 - CARDOSO  \n",
      "29                NÃO                 AVE RESSACA, 118 - PADRE EUSTAQUIO  \n",
      "172               SIM   RUA DESEMBARGADOR RIBEIRO DA LUZ, 135 - BARREIRO  \n",
      "196               NÃO              AVE ELIAS ANTONIO ISSA, 288 - LETICIA  \n"
     ]
    }
   ],
   "source": [
    "important_data = [\n",
    "    'DATA_INICIO_ATIVIDADE', \n",
    "    'IND_POSSUI_ALVARA', \n",
    "    'NOME',\n",
    "    'DESC_LOGRADOURO', 'NOME_LOGRADOURO', 'NUMERO_IMOVEL', 'NOME_BAIRRO'\n",
    "]\n",
    "\n",
    "df_final = df_filter[important_data].copy()\n",
    "\n",
    "df_final['ENDERECO'] = (\n",
    "    df_final['DESC_LOGRADOURO'].fillna('') + ' ' +\n",
    "    df_final['NOME_LOGRADOURO'].fillna('') + ', ' +\n",
    "    df_final['NUMERO_IMOVEL'].fillna('S/N').astype(str) + ' - ' +\n",
    "    df_final['NOME_BAIRRO'].fillna('')\n",
    ")\n",
    "\n",
    "df_final = df_final[['NOME', 'DATA_INICIO_ATIVIDADE', 'IND_POSSUI_ALVARA', 'ENDERECO']]\n",
    "\n",
    "print(df_final.head())"
   ]
  },
  {
   "cell_type": "markdown",
   "id": "49230fbd",
   "metadata": {},
   "source": [
    "## Geocodificação"
   ]
  },
  {
   "cell_type": "code",
   "execution_count": 24,
   "id": "94901844",
   "metadata": {},
   "outputs": [
    {
     "name": "stdout",
     "output_type": "stream",
     "text": [
      "Defaulting to user installation because normal site-packages is not writeable\n",
      "Collecting geopy\n",
      "  Downloading geopy-2.4.1-py3-none-any.whl.metadata (6.8 kB)\n",
      "Collecting geographiclib<3,>=1.52 (from geopy)\n",
      "  Downloading geographiclib-2.0-py3-none-any.whl.metadata (1.4 kB)\n",
      "Downloading geopy-2.4.1-py3-none-any.whl (125 kB)\n",
      "Downloading geographiclib-2.0-py3-none-any.whl (40 kB)\n",
      "\u001b[33mWARNING: Error parsing dependencies of python-apt: Invalid version: '2.4.0-ubuntu4-zorin1'\u001b[0m\u001b[33m\n",
      "\u001b[0mInstalling collected packages: geographiclib, geopy\n",
      "Successfully installed geographiclib-2.0 geopy-2.4.1\n",
      "\n",
      "\u001b[1m[\u001b[0m\u001b[34;49mnotice\u001b[0m\u001b[1;39;49m]\u001b[0m\u001b[39;49m A new release of pip is available: \u001b[0m\u001b[31;49m25.0.1\u001b[0m\u001b[39;49m -> \u001b[0m\u001b[32;49m25.1.1\u001b[0m\n",
      "\u001b[1m[\u001b[0m\u001b[34;49mnotice\u001b[0m\u001b[1;39;49m]\u001b[0m\u001b[39;49m To update, run: \u001b[0m\u001b[32;49mpip install --upgrade pip\u001b[0m\n",
      "Note: you may need to restart the kernel to use updated packages.\n"
     ]
    }
   ],
   "source": [
    "%pip install geopy"
   ]
  },
  {
   "cell_type": "code",
   "execution_count": 28,
   "id": "5fc3c4bf",
   "metadata": {},
   "outputs": [],
   "source": [
    "from geopy.geocoders import Nominatim\n",
    "from geopy.extra.rate_limiter import RateLimiter\n",
    "\n",
    "geolocator = Nominatim(user_agent=\"pbh-geocodificador\")\n",
    "geocode = RateLimiter(geolocator.geocode, min_delay_seconds=1)"
   ]
  },
  {
   "cell_type": "code",
   "execution_count": 31,
   "id": "2807bdeb",
   "metadata": {},
   "outputs": [],
   "source": [
    "def convert_coordinates(address: str):\n",
    "    try:\n",
    "        location = geocode(address)\n",
    "        if location:\n",
    "            return pd.Series([location.latitude, location.longitude])\n",
    "    except Exception as e:\n",
    "        print(f\"Erro ao geocodificar '{address}': {e}\")\n",
    "    return pd.Series([None, None])"
   ]
  },
  {
   "cell_type": "code",
   "execution_count": null,
   "id": "eeb47581",
   "metadata": {},
   "outputs": [],
   "source": [
    "df_final[['LATITUDE', 'LONGITUDE']] = df_final['ENDERECO'].apply(convert_coordinates)\n",
    "print(df_final.head())"
   ]
  }
 ],
 "metadata": {
  "kernelspec": {
   "display_name": "Python 3",
   "language": "python",
   "name": "python3"
  },
  "language_info": {
   "codemirror_mode": {
    "name": "ipython",
    "version": 3
   },
   "file_extension": ".py",
   "mimetype": "text/x-python",
   "name": "python",
   "nbconvert_exporter": "python",
   "pygments_lexer": "ipython3",
   "version": "3.10.12"
  }
 },
 "nbformat": 4,
 "nbformat_minor": 5
}
